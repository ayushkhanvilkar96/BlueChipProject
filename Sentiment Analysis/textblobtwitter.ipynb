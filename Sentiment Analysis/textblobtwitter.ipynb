{
 "cells": [
  {
   "cell_type": "code",
   "execution_count": 3,
   "metadata": {
    "collapsed": false
   },
   "outputs": [
    {
     "name": "stdout",
     "output_type": "stream",
     "text": [
      "RT @TheEconomist: The avowed aim of American tariffs on steel and aluminium is national security https://t.co/CTIBSFnbJl\n",
      "Sentiment(polarity=0.0, subjectivity=0.0)\n",
      "0.0\n",
      "RT @ProgressWeekly: @Shareblue In the summer of 2016, Obama told leaders in DC that Russia was helping Trump win, but McConnell &amp; Republica…\n",
      "Sentiment(polarity=0.8, subjectivity=0.4)\n",
      "0.8\n",
      "@AdamParkhomenko @NatashaBertrand Occam's razor. The simplest, most obvious answer is most likely correct: Yes, Tru… https://t.co/RS7sbVnLB1\n",
      "Sentiment(polarity=0.25, subjectivity=0.625)\n",
      "0.25\n",
      "RT @MarkSimoneNY: These Trump hating Oscar stars who are demanding DACA and open borders all have massive walls around their estates. The P…\n",
      "Sentiment(polarity=0.0, subjectivity=0.75)\n",
      "0.0\n",
      "RT @DrLisaCoaching: HAPPY PRESIDENT’S DAY... 🇺🇸\n",
      "Thank you President Donald J. Trump @POTUS for your commitment to #MakeAmericaGreatAgain an…\n",
      "Sentiment(polarity=0.8, subjectivity=1.0)\n",
      "0.8\n",
      "RT @FoxNews: .@JudgeJeanine on @HillaryClinton: \"Unlike Obama who reduced our military every chance he could, Donald Trump has committed $7…\n",
      "Sentiment(polarity=-0.1, subjectivity=0.1)\n",
      "-0.1\n",
      "RT @RealJack: Twitter caught suppressing certain Conservative accounts.\n",
      "\n",
      "Notice how you rarely see President Trump’s tweets unless you go t…\n",
      "Sentiment(polarity=0.2571428571428571, subjectivity=0.7357142857142858)\n",
      "0.2571428571428571\n",
      "Trump seu fudido engole esses discursos maravilhosos #Oscars\n",
      "Sentiment(polarity=0.0, subjectivity=0.0)\n",
      "0.0\n",
      "RT @politico: Rather than trying to project an air of accessibility, Trump has unapologetically stuck to his insular White House life https…\n",
      "Sentiment(polarity=0.0, subjectivity=0.0)\n",
      "0.0\n",
      "Short-fingered carnival barker Donald Trump's favorite sex position is called \"The Secret Of The Echidna\".\n",
      "Sentiment(polarity=0.04999999999999999, subjectivity=0.85)\n",
      "0.04999999999999999\n",
      "RT @RVAwonk: The Trump admin is not only refusing to implement sanctions on Russia to deter future attacks — they're not even spending the…\n",
      "Sentiment(polarity=0.0, subjectivity=0.5625)\n",
      "0.0\n",
      "RT @redhead4645: Trump is racist..WRONG❌ Trump should stop tweeting..WRONG❌ Trump will not build the wall..WRONG❌ Trump should change the w…\n",
      "Sentiment(polarity=0.0, subjectivity=0.0)\n",
      "0.0\n",
      "RT @calvonio: SUPPORT DREAMERS YEAH WOMENS RIGHTS FUCK DONALD TRUMP AM I RIGHT FELLOW LEFTISTS KEEP THE IRAN DEAL WE STAN THE PARIS AGREEME…\n",
      "Sentiment(polarity=-0.05714285714285716, subjectivity=0.5678571428571428)\n",
      "-0.05714285714285716\n",
      "#Exclusive Trump's Tariff War \n",
      "\n",
      "Marie Diron To @BTVI: Trade Momentum May Get Impacted Due To 25% Tariff On Steel &amp;… https://t.co/IvnGDzFwwB\n",
      "Sentiment(polarity=-0.125, subjectivity=0.375)\n",
      "-0.125\n",
      "Thank you President Trump for giving these Morons something to talk about! #hadenoughofhaters\n",
      "Sentiment(polarity=-1.0, subjectivity=1.0)\n",
      "-1.0\n"
     ]
    }
   ],
   "source": [
    "import tweepy\n",
    "from textblob import TextBlob\n",
    "\n",
    "consumer_key='9cCgbabP4AZGxYgJrZ5qIIXdL'\n",
    "consumer_secret='cHfFXmzqg5U5U0W7Uf8UmGSDL19OVofku4fOifDvezvdWBFs7a'\n",
    "access_token='905969089-xpoyx12kekf5Nx8XULw4xBL2cB3kbBY9Ro14EDjJ'\n",
    "access_token_secret='lfCsS81HQA9zUJwubs8JGZN3qkBAtkJ3sCzdrLNjO2dZT'\n",
    "\n",
    "#Authentication Process\n",
    "auth = tweepy.OAuthHandler(consumer_key,consumer_secret)\n",
    "auth.set_access_token(access_token,access_token_secret)\n",
    "auth.secure = True\n",
    "api = tweepy.API(auth)\n",
    "\n",
    "public_tweets=api.search('Trump')\n",
    "\n",
    "for tweet in public_tweets:\n",
    "    analysis=TextBlob(tweet.text)\n",
    "    print(tweet.text)\n",
    "    print(analysis.sentiment)\n",
    "    print(analysis.sentiment.polarity)\n",
    "    #avg_polarity=+(analysis.sentiment.polarity)\n",
    "    \n",
    "#print(avg_polarity/15)"
   ]
  },
  {
   "cell_type": "code",
   "execution_count": null,
   "metadata": {
    "collapsed": true
   },
   "outputs": [],
   "source": []
  }
 ],
 "metadata": {
  "kernelspec": {
   "display_name": "Python 3",
   "language": "python",
   "name": "python3"
  },
  "language_info": {
   "codemirror_mode": {
    "name": "ipython",
    "version": 3
   },
   "file_extension": ".py",
   "mimetype": "text/x-python",
   "name": "python",
   "nbconvert_exporter": "python",
   "pygments_lexer": "ipython3",
   "version": "3.6.0"
  }
 },
 "nbformat": 4,
 "nbformat_minor": 2
}
